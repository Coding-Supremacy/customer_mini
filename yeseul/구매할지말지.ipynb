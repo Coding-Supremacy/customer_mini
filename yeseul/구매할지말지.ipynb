{
 "cells": [
  {
   "cell_type": "code",
   "execution_count": 13,
   "metadata": {},
   "outputs": [
    {
     "name": "stdout",
     "output_type": "stream",
     "text": [
      "차량 A와 가장 유사한 차량은: 준중형 세단\n"
     ]
    }
   ],
   "source": [
    "import pandas as pd\n",
    "from sklearn.feature_extraction.text import TfidfVectorizer\n",
    "from sklearn.metrics.pairwise import cosine_similarity\n",
    "\n",
    "# 데이터 로드\n",
    "data = pd.read_csv('클러스터링고객데이터_4.csv')\n",
    "\n",
    "# 차량 특성 예시: 차량 구분, 친환경차 여부 등\n",
    "# 차량 구분과 친환경차 여부를 조합하여 특성 생성\n",
    "data['차량_특성'] = data['차량구분'] + ' ' + data['친환경차']\n",
    "\n",
    "# TF-IDF 벡터화\n",
    "tfidf = TfidfVectorizer()\n",
    "tfidf_matrix = tfidf.fit_transform(data['차량_특성'])\n",
    "\n",
    "# 차량 간 유사성 계산\n",
    "cosine_sim = cosine_similarity(tfidf_matrix, tfidf_matrix)\n",
    "\n",
    "# 예시: 차량 A와 유사한 차량 추천\n",
    "car_idx = 0  # 차량 A를 예시로 선택 (0번 차량)\n",
    "\n",
    "# 유사한 차량 추출\n",
    "similarity_scores = list(enumerate(cosine_sim[car_idx]))  # 차량 A와 다른 차량 간 유사도\n",
    "similarity_scores = sorted(similarity_scores, key=lambda x: x[1], reverse=True)\n",
    "\n",
    "# 가장 유사한 차량 출력 (자기 자신은 제외)\n",
    "recommended_car_idx = similarity_scores[1][0]\n",
    "recommended_car = data.iloc[recommended_car_idx]['차량구분']\n",
    "print(f\"차량 A와 가장 유사한 차량은: {recommended_car}\")\n"
   ]
  },
  {
   "cell_type": "code",
   "execution_count": null,
   "metadata": {},
   "outputs": [],
   "source": []
  }
 ],
 "metadata": {
  "kernelspec": {
   "display_name": "hi",
   "language": "python",
   "name": "python3"
  },
  "language_info": {
   "codemirror_mode": {
    "name": "ipython",
    "version": 3
   },
   "file_extension": ".py",
   "mimetype": "text/x-python",
   "name": "python",
   "nbconvert_exporter": "python",
   "pygments_lexer": "ipython3",
   "version": "3.10.13"
  }
 },
 "nbformat": 4,
 "nbformat_minor": 2
}
